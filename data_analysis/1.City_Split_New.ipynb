{
 "cells": [
  {
   "cell_type": "code",
   "execution_count": 65,
   "metadata": {},
   "outputs": [],
   "source": [
    "#提取city数据，Washington，Phoenix，Calgary，Toronto，Singapore"
   ]
  },
  {
   "cell_type": "code",
   "execution_count": 1,
   "metadata": {},
   "outputs": [],
   "source": [
    "import pandas as pd\n",
    "import requests\n",
    "import json\n",
    "import numpy as np\n",
    "from tqdm import trange\n",
    "import time"
   ]
  },
  {
   "cell_type": "code",
   "execution_count": 6,
   "metadata": {},
   "outputs": [
    {
     "name": "stdout",
     "output_type": "stream",
     "text": [
      "                                0          1          2  \\\n",
      "0        3fd66200f964a52000e71ee3  40.733596 -74.003139   \n",
      "1        3fd66200f964a52000e81ee3  40.758102 -73.975734   \n",
      "2        3fd66200f964a52000ea1ee3  40.732456 -74.003755   \n",
      "3        3fd66200f964a52000ec1ee3  42.345907 -71.087001   \n",
      "4        3fd66200f964a52000ee1ee3  39.933178 -75.159262   \n",
      "...                           ...        ...        ...   \n",
      "3680032  523727d711d2054c0175c97c  32.765056 -96.559685   \n",
      "3680071  523745bc498e698402fc82ae  39.948346 -75.165862   \n",
      "3680082  52374d9311d28190eecb6cad  41.691059 -71.527948   \n",
      "3680112  5237782d11d2bd904b83eda1  38.781884 -77.017299   \n",
      "3680115  52377ba411d2c10295195b31  43.101319 -77.542397   \n",
      "\n",
      "                             3   4  \n",
      "0                    Jazz Club  US  \n",
      "1                          Gym  US  \n",
      "2            Indian Restaurant  US  \n",
      "3            Indian Restaurant  US  \n",
      "4               Sandwich Place  US  \n",
      "...                        ...  ..  \n",
      "3680032                Factory  US  \n",
      "3680071         Medical Center  US  \n",
      "3680082                    Gym  US  \n",
      "3680112  General Entertainment  US  \n",
      "3680115                  Trail  US  \n",
      "\n",
      "[501900 rows x 5 columns]\n"
     ]
    }
   ],
   "source": [
    "Retrive_city = 'New York'\n",
    "data_poi = pd.read_table('../dataset/dataset_TIST2015_POIs.txt',sep='\\t',header=None) \n",
    "data_poi_us = data_poi[data_poi[4]=='US']\n",
    "data_poi_sg =  data_poi[data_poi[4]=='SG']\n",
    "data_poi_can =  data_poi[data_poi[4]=='CA']\n",
    "print(data_poi_us)"
   ]
  },
  {
   "cell_type": "code",
   "execution_count": 4,
   "metadata": {},
   "outputs": [
    {
     "name": "stdout",
     "output_type": "stream",
     "text": [
      "(501900, 5)\n",
      "(33892, 5)\n",
      "(35996, 5)\n"
     ]
    }
   ],
   "source": [
    "print(data_poi_us.shape)\n",
    "print(data_poi_sg.shape)\n",
    "print(data_poi_can.shape)\n",
    "#print(data_poi_can)"
   ]
  },
  {
   "cell_type": "code",
   "execution_count": 5,
   "metadata": {},
   "outputs": [],
   "source": [
    "newyork_poi_table = pd.DataFrame(columns=('VenueId','Longitude','Dimension','Category','City','CountryCode'))\n",
    "phoenix_poi_table = pd.DataFrame(columns=('VenueId','Longitude','Dimension','Category','City','CountryCode'))\n",
    "calgary_poi_table = pd.DataFrame(columns=('VenueId','Longitude','Dimension','Category','City','CountryCode'))\n",
    "singapore_poi_table = pd.DataFrame(columns=('VenueId','Longitude','Dimension','Category','City','CountryCode'))"
   ]
  },
  {
   "cell_type": "code",
   "execution_count": 70,
   "metadata": {},
   "outputs": [],
   "source": [
    "#Retrive NewYork\n",
    "Retrive_city = 'New York'\n",
    "Retrive_city2 = 'Phoenix'\n",
    "for index, row in data_poi_us.iterrows(): \n",
    "    #print (index)\n",
    "    #纬度\n",
    "    latitude = row[1]\n",
    "    #print(latitude)\n",
    "    #经度\n",
    "    longtitude = row[2]\n",
    "    #print(latitude,longtitude)\n",
    "    if latitude<= 40.947446 and latitude>=40.484021 and longtitude>=-74.302694 and longtitude<= -73.691461:\n",
    "        newyork_poi_table = newyork_poi_table.append([{'VenueId':row[0],'Longitude':row[1],'Dimension':row[2],'Category':row[3],'City':Retrive_city,'CountryCode':row[4]}], ignore_index=True)                                          \n",
    "        #print(newyork_poi_table)\n",
    "    if latitude<= 33.913506 and latitude>=33.173755 and longtitude>=-112.409588 and longtitude<=-111.859993:\n",
    "        phoenix_poi_table = phoenix_poi_table.append([{'VenueId':row[0],'Longitude':row[1],'Dimension':row[2],'Category':row[3],'City':Retrive_city2,'CountryCode':row[4]}], ignore_index=True)                                          \n",
    "        #print(phoenix_poi_table)\n",
    "          "
   ]
  },
  {
   "cell_type": "code",
   "execution_count": null,
   "metadata": {},
   "outputs": [],
   "source": [
    "newyork_poi_table = newyork_poi_table.drop_duplicates()\n",
    "phoenix_poi_table = phoenix_poi_table.drop_duplicates()"
   ]
  },
  {
   "cell_type": "code",
   "execution_count": 71,
   "metadata": {},
   "outputs": [],
   "source": [
    "newyork_poi_table.to_csv(\"%s.csv\"%(Retrive_city),index=False,sep=',')\n",
    "phoenix_poi_table.to_csv(\"%s.csv\"%(Retrive_city2),index=False,sep=',')"
   ]
  },
  {
   "cell_type": "code",
   "execution_count": 72,
   "metadata": {},
   "outputs": [
    {
     "name": "stdout",
     "output_type": "stream",
     "text": [
      "New York and Phoenix Successful！\n"
     ]
    }
   ],
   "source": [
    "print('New York and Phoenix Successful！')"
   ]
  },
  {
   "cell_type": "code",
   "execution_count": 73,
   "metadata": {},
   "outputs": [],
   "source": [
    "#Retrive Singapore\n",
    "Retrive_city = 'Singapore'\n",
    "for index, row in data_poi_sg.iterrows(): \n",
    "    #print(index)\n",
    "    #纬度\n",
    "    latitude = row[1]\n",
    "    #print(latitude)\n",
    "    #经度\n",
    "    longtitude = row[2]\n",
    "    #print(latitude,longtitude)\n",
    "    if latitude<= 1.47233 and latitude>=1.247313 and longtitude>=103.598965 and longtitude<=104.034906:\n",
    "        singapore_poi_table = singapore_poi_table.append([{'VenueId':row[0],'Longitude':row[1],'Dimension':row[2],'Category':row[3],'City':Retrive_city,'CountryCode':row[4]}], ignore_index=True)                                          \n",
    "        #print(singapore_poi_table)"
   ]
  },
  {
   "cell_type": "code",
   "execution_count": null,
   "metadata": {},
   "outputs": [],
   "source": [
    "singapore_poi_table = singapore_poi_table.drop_duplicates()"
   ]
  },
  {
   "cell_type": "code",
   "execution_count": 74,
   "metadata": {},
   "outputs": [],
   "source": [
    "singapore_poi_table.to_csv(\"%s.csv\"%(Retrive_city),index=False,sep=',')"
   ]
  },
  {
   "cell_type": "code",
   "execution_count": 75,
   "metadata": {},
   "outputs": [
    {
     "name": "stdout",
     "output_type": "stream",
     "text": [
      "Sigapore Successful！\n"
     ]
    }
   ],
   "source": [
    "print('Sigapore Successful！')"
   ]
  },
  {
   "cell_type": "code",
   "execution_count": 76,
   "metadata": {},
   "outputs": [],
   "source": [
    "#Retrive Calgary\n",
    "Retrive_city = 'Calgary'\n",
    "for index, row in data_poi_can.iterrows(): \n",
    "    #print(index)\n",
    "    #纬度\n",
    "    latitude = row[1]\n",
    "    #print(latitude)\n",
    "    #经度\n",
    "    longtitude = row[2]\n",
    "    #print(latitude,longtitude)\n",
    "    if latitude<= 51.219320 and latitude>=50.835829 and longtitude>=-114.317180 and longtitude<=-113.810436:\n",
    "        calgary_poi_table = calgary_poi_table.append([{'VenueId':row[0],'Longitude':row[1],'Dimension':row[2],'Category':row[3],'City':Retrive_city,'CountryCode':row[4]}], ignore_index=True)                                          \n",
    "        #print(calgary_poi_table)"
   ]
  },
  {
   "cell_type": "code",
   "execution_count": null,
   "metadata": {},
   "outputs": [],
   "source": [
    "calgary_poi_table = calgary_poi_table.drop_duplicates()"
   ]
  },
  {
   "cell_type": "code",
   "execution_count": 77,
   "metadata": {},
   "outputs": [
    {
     "name": "stdout",
     "output_type": "stream",
     "text": [
      "Calgary Successful！\n"
     ]
    }
   ],
   "source": [
    "calgary_poi_table.to_csv(\"%s.csv\"%(Retrive_city),index=False,sep=',')\n",
    "print('Calgary Successful！')"
   ]
  },
  {
   "cell_type": "code",
   "execution_count": null,
   "metadata": {},
   "outputs": [],
   "source": []
  }
 ],
 "metadata": {
  "kernelspec": {
   "display_name": "Python 3",
   "language": "python",
   "name": "python3"
  },
  "language_info": {
   "codemirror_mode": {
    "name": "ipython",
    "version": 3
   },
   "file_extension": ".py",
   "mimetype": "text/x-python",
   "name": "python",
   "nbconvert_exporter": "python",
   "pygments_lexer": "ipython3",
   "version": "3.7.7"
  }
 },
 "nbformat": 4,
 "nbformat_minor": 4
}
